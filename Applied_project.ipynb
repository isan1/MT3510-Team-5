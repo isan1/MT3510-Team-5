{
 "cells": [
  {
   "attachments": {},
   "cell_type": "markdown",
   "metadata": {},
   "source": [
    "1. an introduction to the problem (why are we interested in this?)\n",
    "2. an introduction to the method (how are you solving the problem? How does the method fit in with other methods/problems you know about?)."
   ]
  },
  {
   "attachments": {},
   "cell_type": "markdown",
   "metadata": {},
   "source": [
    "Part 1 : Hannah & Sophie"
   ]
  },
  {
   "cell_type": "code",
   "execution_count": null,
   "metadata": {},
   "outputs": [],
   "source": []
  },
  {
   "attachments": {},
   "cell_type": "markdown",
   "metadata": {},
   "source": [
    "Part 2 : Luke & Isra"
   ]
  },
  {
   "cell_type": "code",
   "execution_count": null,
   "metadata": {},
   "outputs": [],
   "source": []
  },
  {
   "attachments": {},
   "cell_type": "markdown",
   "metadata": {},
   "source": [
    "Part 3 : Jun & Daisy"
   ]
  },
  {
   "cell_type": "code",
   "execution_count": 39,
   "metadata": {},
   "outputs": [
    {
     "data": {
      "application/vnd.jupyter.widget-view+json": {
       "model_id": "c182f8ac5a0e43e6889db4813ee7ee93",
       "version_major": 2,
       "version_minor": 0
      },
      "text/plain": [
       "interactive(children=(IntSlider(value=5, description='degree', max=10), Output()), _dom_classes=('widget-inter…"
      ]
     },
     "execution_count": 39,
     "metadata": {},
     "output_type": "execute_result"
    }
   ],
   "source": [
    "%matplotlib inline\n",
    "import numpy as np\n",
    "from ipywidgets import interactive\n",
    "import matplotlib.pyplot as plt\n",
    "\n",
    "\n",
    "x_possible_knots = np.array([1.5, 1.6, 1.4, 1.7, 1.3, 1.8, 1.2, 1.9, 1.1, 2, 1])\n",
    "maximum_degree = len(x_possible_knots) - 1\n",
    "\n",
    "\n",
    "def f(x):\n",
    "    return np.exp(x)*np.cos(10*x)\n",
    "\n",
    "\n",
    "def polynomial_interpolation(x_knots: np.ndarray, y_knots: np.ndarray) -> callable:\n",
    "    \"\"\"\n",
    "    :param points: array of points to interpolate\n",
    "    :param degree: degree of the polynomial\n",
    "    :return: function that interpolates the points\n",
    "    \"\"\"\n",
    "\n",
    "    assert len(x_knots) == len(y_knots), 'x_knots and y_knots must have the same length'\n",
    "\n",
    "    A = np.vander(x_knots)\n",
    "    coeff = np.linalg.solve(A, y_knots)\n",
    "    \n",
    "    return lambda x: np.polyval(coeff, x)\n",
    "\n",
    "\n",
    "def plot(x: np.ndarray, y: np.ndarray, x_knots: np.ndarray, y_knots: np.ndarray) -> None:\n",
    "    plt.figure(figsize=(16, 9))\n",
    "    plt.plot(x, y, '-', label='Interpolated')\n",
    "    plt.plot(x, f(x), '--', label='Original')\n",
    "    plt.plot(x_knots, y_knots, 'o', label='Knots')\n",
    "\n",
    "    plt.ylim(-7, 7)\n",
    "    plt.title('Interactive plot of polynomial interpolation')\n",
    "    plt.xlabel('x')\n",
    "    plt.ylabel('y')\n",
    "    plt.legend(loc='best')\n",
    "\n",
    "    plt.show()\n",
    "\n",
    "\n",
    "def interactive_plot(degree: int) -> None:\n",
    "    x_knots = x_possible_knots[:degree + 1]\n",
    "    y_knots = f(x_knots)\n",
    "    polynomial = polynomial_interpolation(x_knots, y_knots)\n",
    "\n",
    "    x = np.linspace(1, 2, 100)\n",
    "    y = polynomial(x)\n",
    "    plot(x, y, x_knots, y_knots)\n",
    "\n",
    "\n",
    "interactive(interactive_plot, degree=(0, maximum_degree))\n"
   ]
  },
  {
   "attachments": {},
   "cell_type": "markdown",
   "metadata": {},
   "source": [
    "Part 4"
   ]
  },
  {
   "cell_type": "code",
   "execution_count": null,
   "metadata": {},
   "outputs": [],
   "source": []
  },
  {
   "attachments": {},
   "cell_type": "markdown",
   "metadata": {},
   "source": [
    "One big conclusion?"
   ]
  }
 ],
 "metadata": {
  "kernelspec": {
   "display_name": "Python 3",
   "language": "python",
   "name": "python3"
  },
  "language_info": {
   "codemirror_mode": {
    "name": "ipython",
    "version": 3
   },
   "file_extension": ".py",
   "mimetype": "text/x-python",
   "name": "python",
   "nbconvert_exporter": "python",
   "pygments_lexer": "ipython3",
   "version": "3.10.8"
  },
  "orig_nbformat": 4,
  "vscode": {
   "interpreter": {
    "hash": "fa3d175ffb29d8646e522f1e1534feb2b5dcfc6463536ca1f9859edc24e09fdb"
   }
  }
 },
 "nbformat": 4,
 "nbformat_minor": 2
}
